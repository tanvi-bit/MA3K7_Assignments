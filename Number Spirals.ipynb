{
 "cells": [
  {
   "cell_type": "code",
   "execution_count": null,
   "id": "8d93d9eb-e2cc-4bd0-82aa-bac4454509d1",
   "metadata": {
    "tags": []
   },
   "outputs": [],
   "source": [
    "import numpy as np\n",
    "from scipy import linalg as LA\n",
    "import matplotlib.pyplot as plt\n",
    "%matplotlib\n",
    "\n",
    "n = 100\n",
    "x = np.arange(0,n)\n",
    "S = []\n",
    "for i in np.arange(n):\n",
    "    y = 1/3*((i)**3) + 2/3*(i)\n",
    "    S.append(y)\n",
    "\n",
    "plt.plot(x,S)\n",
    "plt.ylabel('S(n)')\n",
    "plt.xlabel('n')\n",
    "plt.grid('on')\n",
    "plt.show()"
   ]
  },
  {
   "cell_type": "code",
   "execution_count": null,
   "id": "2e72b7dc-a9ae-4065-9d83-3d20a03cb027",
   "metadata": {},
   "outputs": [],
   "source": [
    "def powmod(base, exponent, modulo):\n",
    "    result = 1\n",
    "    while exponent > 0:\n",
    "        if exponent % 2 == 1:\n",
    "            result = (result * base) % modulo\n",
    "            exponent -= 1\n",
    "        else:\n",
    "            base = (base * base) % modulo\n",
    "            exponent //= 2\n",
    "    return result\n",
    "\n",
    "def inverse_modulo(a, modulo):\n",
    "    return powmod(a, modulo - 2, modulo)\n",
    "\n",
    "tests = int(input())\n",
    "for _ in range(tests):\n",
    "    n = int(input())\n",
    "    sum = 1\n",
    "\n",
    "    x = n // 2\n",
    "\n",
    "    Modulo = 1000000007\n",
    "\n",
    "    x %= Modulo\n",
    "\n",
    "    shared_term = (2 * x * (x + 1)) % Modulo\n",
    "    sum1 = ((4 * shared_term * (2 * x + 1)) % Modulo) * inverse_modulo(3, Modulo)\n",
    "    sum2 = shared_term + 4 * x + 1\n",
    "\n",
    "    sum = (sum1 % Modulo + sum2 % Modulo) % Modulo\n",
    "\n",
    "    print(sum)\n"
   ]
  },
  {
   "cell_type": "code",
   "execution_count": null,
   "id": "0e87c0d1-c5b2-40b2-96e9-59983467c146",
   "metadata": {},
   "outputs": [],
   "source": [
    "import numpy as np\n",
    "from scipy import linalg as LA\n",
    "from scipy.optimize import curve_fit\n",
    "import matplotlib.pyplot as plt\n",
    "n = 101\n",
    "\n",
    "x = np.arange(0,n)\n",
    "S = []\n",
    "for i in np.arange(n):\n",
    "    s = (16*(i**3)+30*(i**2)+26*i+ 3)//3\n",
    "    S.append(s % (10**9+7))\n",
    "    \n",
    "def objective(x, a, b, c, d):\n",
    "    return a * x**3 + b * x** 2+ c*x +d\n",
    "popt, _ = curve_fit(objective, x, S)\n",
    "# summarize the parameter values\n",
    "a, b, c, d = popt\n",
    "print('y = %.5f * x^3 + %.5f * x^2 +%.5f * x + %.5f' % (a, b, c, d))\n",
    "\n",
    "x_line = np.arange(min(x), max(x), 1)\n",
    "# calculate the output for the range\n",
    "y_line = objective(x_line, a, b, c, d)\n",
    "# create a line plot for the mapping function\n",
    "plt.plot(x, S, x_line, y_line, '--')\n",
    "plt.ylabel('S(n)')\n",
    "plt.xlabel('n')\n",
    "plt.grid('on')\n",
    "plt.show()\n",
    "plt.legend(['S(n)', 'approximation'])\n",
    "plt.show()"
   ]
  },
  {
   "cell_type": "code",
   "execution_count": null,
   "id": "319cab50-af7b-410b-aaa3-edee19c92c5f",
   "metadata": {},
   "outputs": [],
   "source": []
  }
 ],
 "metadata": {
  "kernelspec": {
   "display_name": "Python 3 (ipykernel)",
   "language": "python",
   "name": "python3"
  },
  "language_info": {
   "codemirror_mode": {
    "name": "ipython",
    "version": 3
   },
   "file_extension": ".py",
   "mimetype": "text/x-python",
   "name": "python",
   "nbconvert_exporter": "python",
   "pygments_lexer": "ipython3",
   "version": "3.9.7"
  }
 },
 "nbformat": 4,
 "nbformat_minor": 5
}
