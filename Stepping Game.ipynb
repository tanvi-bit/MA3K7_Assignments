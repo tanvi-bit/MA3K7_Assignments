{
 "cells": [
  {
   "cell_type": "code",
   "execution_count": null,
   "id": "6f50264f-84e6-4f36-b47a-6e2706ca5708",
   "metadata": {},
   "outputs": [],
   "source": [
    "import numpy as np\n",
    "from scipy import linalg as LA\n",
    "import matplotlib.pyplot as plt\n",
    "%matplotlib\n",
    "\n",
    "A = np.array([1, 1/2])\n",
    "for i in np.arange(2,26):\n",
    "    a = (1/2)*A[i-1] + (1/2)*A[i-2]\n",
    "    A = np.append(A,a)\n",
    "    \n",
    "plt.plot(A)\n",
    "plt.ylabel('$P(n)$')\n",
    "plt.xlabel('$n$')\n",
    "plt.grid('on')\n",
    "plt.show()"
   ]
  },
  {
   "cell_type": "code",
   "execution_count": null,
   "id": "fde83f85-5a4c-4366-9825-a44cb8c40cb8",
   "metadata": {},
   "outputs": [],
   "source": [
    "import sympy as sp\n",
    "from sympy.abc import m, x, y, k\n",
    "\n",
    "M = sp.solve(m**2 - 1/2 * m - 1/2, m)\n",
    "\n",
    "A = sp.Matrix([[1, 1], [M[0], M[1]]])\n",
    "b = sp.Matrix([1, 1/2])\n",
    "C ,= sp.linsolve((A, b), x, y)\n",
    "\n",
    "def a(n):\n",
    "    return sum(C[i]*M[i]**n for i in range(2))\n",
    "\n",
    "a(25)"
   ]
  },
  {
   "cell_type": "code",
   "execution_count": null,
   "id": "b2aa76a4-a678-46ac-8627-5f7ee0258806",
   "metadata": {},
   "outputs": [],
   "source": []
  }
 ],
 "metadata": {
  "kernelspec": {
   "display_name": "Python 3 (ipykernel)",
   "language": "python",
   "name": "python3"
  },
  "language_info": {
   "codemirror_mode": {
    "name": "ipython",
    "version": 3
   },
   "file_extension": ".py",
   "mimetype": "text/x-python",
   "name": "python",
   "nbconvert_exporter": "python",
   "pygments_lexer": "ipython3",
   "version": "3.9.7"
  }
 },
 "nbformat": 4,
 "nbformat_minor": 5
}
