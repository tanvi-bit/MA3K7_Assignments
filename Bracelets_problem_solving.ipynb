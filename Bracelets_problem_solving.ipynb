{
 "cells": [
  {
   "cell_type": "code",
   "execution_count": 4,
   "id": "2df098ef-0236-4cce-ad15-69d16623ce22",
   "metadata": {},
   "outputs": [
    {
     "name": "stdout",
     "output_type": "stream",
     "text": [
      "[1, 5, 6, 1, 7, 8, 5, 3, 8, 1, 9, 0, 9, 9, 8, 7, 5, 2, 7, 9, 6, 5, 1, 6, 7, 3, 0, 3, 3, 6, 9, 5, 4, 9, 3, 2, 5, 7, 2, 9, 1, 0, 1, 1, 2, 3, 5, 8, 3, 1, 4, 5, 9, 4, 3, 7, 0, 7, 7, 4]\n"
     ]
    }
   ],
   "source": [
    "def bracelet(n):\n",
    "    a, b = 1, 5\n",
    "    for i in range(n):\n",
    "        a, b = b, (a+b)%10\n",
    "    return a\n",
    "bracelet_one = []\n",
    "for i in range(60):\n",
    "    bracelet_one.append(bracelet(i))\n",
    "print(bracelet_one)"
   ]
  },
  {
   "cell_type": "code",
   "execution_count": 8,
   "id": "ad54bca1-f598-40ab-a5b1-db43e44c3443",
   "metadata": {},
   "outputs": [
    {
     "name": "stdout",
     "output_type": "stream",
     "text": [
      "4\n",
      "[2, 6, 8, 4]\n",
      "[1, 3, 4, 7, 1, 8, 9, 7, 6, 3, 9, 2]\n",
      "[0, 4, 4, 8, 2, 0, 2, 2, 4, 6, 0, 6, 6, 2, 8, 0, 8, 8, 6, 4]\n",
      "[0, 1, 1, 2, 3, 5, 8, 3, 1, 4, 5, 9, 4, 3, 7, 0, 7, 7, 4, 1, 5, 6, 1, 7, 8, 5, 3, 8, 1, 9, 0, 9, 9, 8, 7, 5, 2, 7, 9, 6, 5, 1, 6, 7, 3, 0, 3, 3, 6, 9, 5, 4, 9, 3, 2, 5, 7, 2, 9, 1]\n"
     ]
    }
   ],
   "source": [
    "def bracelet(a, b, n):\n",
    "    #a, b = 1, 5\n",
    "    for i in range(n):\n",
    "        a, b = b, (a+b)%10\n",
    "    return a\n",
    "\n",
    "def bracelet_generator(a, b, j):\n",
    "    bracelet_one = []\n",
    "    for i in range(j):\n",
    "        bracelet_one.append(bracelet(a, b, i))\n",
    "    return(bracelet_one)\n",
    "\n",
    "print(len(bracelet_generator(2, 6, 4)))\n",
    "print(bracelet_generator(2, 6, 4))\n",
    "print(bracelet_generator(1, 3, 12))\n",
    "print(bracelet_generator(0, 4, 20))\n",
    "print(bracelet_generator(0, 1, 60))"
   ]
  },
  {
   "cell_type": "code",
   "execution_count": null,
   "id": "316575a1-63ea-4538-b876-ffc5021a4e8d",
   "metadata": {},
   "outputs": [],
   "source": []
  }
 ],
 "metadata": {
  "kernelspec": {
   "display_name": "Python 3 (ipykernel)",
   "language": "python",
   "name": "python3"
  },
  "language_info": {
   "codemirror_mode": {
    "name": "ipython",
    "version": 3
   },
   "file_extension": ".py",
   "mimetype": "text/x-python",
   "name": "python",
   "nbconvert_exporter": "python",
   "pygments_lexer": "ipython3",
   "version": "3.9.7"
  }
 },
 "nbformat": 4,
 "nbformat_minor": 5
}
