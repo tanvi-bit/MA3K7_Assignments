{
 "cells": [
  {
   "cell_type": "code",
   "execution_count": 4,
   "id": "0c17d2aa-b660-485b-8994-12ee81137fe6",
   "metadata": {},
   "outputs": [
    {
     "name": "stdout",
     "output_type": "stream",
     "text": [
      "Using matplotlib backend: Qt5Agg\n"
     ]
    }
   ],
   "source": [
    "import random\n",
    "import matplotlib.pyplot as plt\n",
    "%matplotlib\n",
    "\n",
    "def final_piece():\n",
    "    # Initialize pieces of paper in the hat\n",
    "    hat = list(range(1, 2025))\n",
    "\n",
    "    # Continue the process until there is only one piece left\n",
    "    while len(hat) > 1:\n",
    "        # Draw two pieces randomly and remove the drawn pieces from the hat\n",
    "        piece1 = random.choice(hat)\n",
    "        hat.remove(piece1)\n",
    "        piece2 = random.choice(hat)\n",
    "        hat.remove(piece2)\n",
    "\n",
    "        # Find the larger and smaller pieces\n",
    "        larger = max(piece1, piece2)\n",
    "        smaller = min(piece1, piece2)\n",
    "\n",
    "        # Calculate the difference and put it back into the hat\n",
    "        difference = larger - smaller\n",
    "        hat.append(difference)\n",
    "\n",
    "    # Return the final piece of paper\n",
    "    return hat[0]\n",
    "\n",
    "# Perform the simulation multiple times to observe the variability\n",
    "results = [final_piece() for _ in range(10000)]\n",
    "\n",
    "Probability = {}\n",
    "for i in results:\n",
    "    Probability[i] = results.count(i)/len(results)\n",
    "    \n",
    "\n",
    "keys = Probability.keys()\n",
    "values = Probability.values()\n",
    "\n",
    "plt.bar(keys, values)\n",
    "plt.xlabel(\"Probability\")\n",
    "plt.ylabel(\"Final Number\")\n",
    "plt.title(\"2024 game\")\n",
    "\n",
    "plt.show()\n"
   ]
  },
  {
   "cell_type": "code",
   "execution_count": 4,
   "id": "86131fff-7f1a-4416-8192-59355f42eeca",
   "metadata": {},
   "outputs": [
    {
     "name": "stdout",
     "output_type": "stream",
     "text": [
      "Using matplotlib backend: Qt5Agg\n"
     ]
    }
   ],
   "source": [
    "import random\n",
    "import matplotlib.pyplot as plt\n",
    "%matplotlib\n",
    "\n",
    "myticks = [0, 250, 500, 750, 1000, 1250, 1500, 1750]\n",
    "           \n",
    "def final_piece(n_trials, n):\n",
    "    final_values = []\n",
    "    for _ in range(n_trials):\n",
    "        hat = list(range(1, n + 1))\n",
    "        while len(hat) > 1:\n",
    "            piece1 = random.choice(hat)\n",
    "            hat.remove(piece1)\n",
    "            piece2 = random.choice(hat)\n",
    "            hat.remove(piece2)\n",
    "            difference = max(piece1, piece2) - min(piece1, piece2)\n",
    "            hat.append(difference)\n",
    "        final_values.append(hat[0])\n",
    "    return final_values\n",
    "\n",
    "def plot_histogram(final_values):\n",
    "    plt.figure(figsize=(10, 6))\n",
    "    plt.hist(final_values, bins=max(final_values)-min(final_values)+1, align='left', rwidth=0.8, density=True)\n",
    "    plt.xlabel('Final Value')\n",
    "    plt.ylabel('Probability')\n",
    "    plt.title('Histogram of Final Values')\n",
    "    plt.grid(axis='y', alpha=0.75)\n",
    "    plt.xticks(range(min(final_values), max(final_values)+1))\n",
    "    plt.gca().set_xticks(myticks)\n",
    "    plt.show()\n",
    "\n",
    "# Parameters\n",
    "n_trials = 100\n",
    "n = 2024\n",
    "\n",
    "# Simulate the game\n",
    "results = final_piece(n_trials, n)\n",
    "\n",
    "# Plot histogram\n",
    "plot_histogram(results)\n"
   ]
  },
  {
   "cell_type": "raw",
   "id": "44d3f995-0275-4935-9926-d6e4746110ea",
   "metadata": {},
   "source": [
    "                                           🎩(1,2,3,4)\n",
    "            /              /               |          |             \\              \\\n",
    "      🎩(1,3,4)     🎩(1,1,4)      🎩(2,2,4)     🎩 (3,3,4)    🎩(1,2,3)      🎩(1,1,2)\n",
    "     /    |   \\     /    |    \\    /     |    \\    /    |   \\     /    |  \\       /    |  \\ \n",
    "(2,4)(3,3)(3,4)  (0,4)(3,1)(3,1) (0,4)(2,2)(2,2) (0,4)(1,3)(1,3) (1,3)(1,1)(2,2) (0,2)(1,1)(1,1)\n",
    "  |    |    |      |    |    |     |    |    |     |    |    |     |    |    |     |    |    |\n",
    "  2    0    1      4    2    2     4    0    0     4    2    2     2    0    0     2    0    0"
   ]
  },
  {
   "cell_type": "code",
   "execution_count": null,
   "id": "94558f79-bd11-46f9-98be-546f7cb4cb4a",
   "metadata": {},
   "outputs": [],
   "source": []
  }
 ],
 "metadata": {
  "kernelspec": {
   "display_name": "Python 3 (ipykernel)",
   "language": "python",
   "name": "python3"
  },
  "language_info": {
   "codemirror_mode": {
    "name": "ipython",
    "version": 3
   },
   "file_extension": ".py",
   "mimetype": "text/x-python",
   "name": "python",
   "nbconvert_exporter": "python",
   "pygments_lexer": "ipython3",
   "version": "3.9.7"
  }
 },
 "nbformat": 4,
 "nbformat_minor": 5
}
